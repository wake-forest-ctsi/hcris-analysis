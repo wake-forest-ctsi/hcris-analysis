{
 "cells": [
  {
   "cell_type": "code",
   "execution_count": null,
   "metadata": {},
   "outputs": [],
   "source": [
    "import io\n",
    "from pathlib import Path\n",
    "from tempfile import TemporaryDirectory\n",
    "import zipfile\n",
    "\n",
    "import pandas\n",
    "import requests"
   ]
  },
  {
   "cell_type": "code",
   "execution_count": null,
   "metadata": {},
   "outputs": [],
   "source": [
    "year = '2023'\n",
    "\n",
    "uri = f'https://downloads.cms.gov/Files/hcris/HOSP10FY{year}.zip'\n",
    "\n",
    "report_dtype = {\n",
    "       'RPT_REC_NUM': 'Int64',\n",
    "       'PRVDR_CTRL_TYPE_CD':   'category',\n",
    "       'PRVDR_NUM':            'string',\n",
    "       'NPI':                  'Int64',\n",
    "       'RPT_STUS_CD':          'category',\n",
    "       'FY_BGN_DT':            'object',\n",
    "       'FY_END_DT':            'object',\n",
    "       'PROC_DT':              'object',\n",
    "       'INITL_RPT_SW':         'category',\n",
    "       'LAST_RPT_SW':          'category',\n",
    "       'TRNSMTL_NUM':          'category',\n",
    "       'FI_NUM':               'string',\n",
    "       'ADR_VNDR_CD':          'string',\n",
    "       'FI_CREAT_DT':          'object',\n",
    "       'UTIL_CD':              'category',\n",
    "       'NPR_DT':               'object',\n",
    "       'SPEC_IND':             'string',\n",
    "       'FI_RCPT_DT':           'object'}\n",
    "report_parse_dates = [k for k,v in report_dtype.items() if v == 'object']\n",
    "\n",
    "values_dtype = {\n",
    "       'RPT_REC_NUM':          'int64',\n",
    "       'WKSHT_CD':             'category',\n",
    "       'LINE_NUM':             'category',\n",
    "       'CLMN_NUM':             'category',\n",
    "       'VALUE':                'string'\n",
    "}\n",
    "\n",
    "lookup_dtype = {\n",
    "       'Variable Name':          'string',\n",
    "       'Cost Report Worksheet Element': 'string',\n",
    "       'WKSHT_CD':             'category',\n",
    "       'LINE_NUM':             'category',\n",
    "       'CLMN_NUM':             'category',\n",
    "}"
   ]
  },
  {
   "cell_type": "code",
   "execution_count": null,
   "metadata": {},
   "outputs": [],
   "source": [
    "with (\n",
    "    requests.get(uri) as result,\n",
    "    zipfile.ZipFile(io.BytesIO(result.content)) as zip_handler,\n",
    "    TemporaryDirectory() as temp_context\n",
    "):\n",
    "    data_path = Path(temp_context)\n",
    "    zip_handler.extractall(data_path)\n",
    "    # rpt =pandas.read_csv(data_path / 'HOSP10_2019_RPT.CSV', header=0, names=report_dtype.keys(), dtype=report_dtype, parse_dates=report_parse_dates)\n",
    "    values = pandas.read_csv(data_path / f'HOSP10_{year}_NMRC.CSV', header=0, names=values_dtype.keys(), dtype=values_dtype, )\n",
    "    values = pandas.concat([values, pandas.read_csv(data_path / f'HOSP10_{year}_ALPHA.CSV', header=0, names=values_dtype.keys(), dtype=values_dtype, ) ], ignore_index=True)"
   ]
  },
  {
   "cell_type": "code",
   "execution_count": null,
   "metadata": {},
   "outputs": [],
   "source": [
    "lookup = pandas.read_csv(Path.cwd() / 'etc' / 'lookup.csv', header=0, names=lookup_dtype.keys(), dtype=lookup_dtype,)\n",
    "\n",
    "merged = values.merge(lookup, how='inner', on=['WKSHT_CD','LINE_NUM','CLMN_NUM'], )"
   ]
  },
  {
   "cell_type": "code",
   "execution_count": null,
   "metadata": {},
   "outputs": [],
   "source": [
    "pivoted = merged.pivot(index='RPT_REC_NUM',columns='Variable Name', values='VALUE').reset_index().rename_axis(None, axis=1)\n",
    "\n",
    "# order the columns\n",
    "ordered = pivoted[['RPT_REC_NUM'] + list(lookup['Variable Name'])]"
   ]
  },
  {
   "cell_type": "code",
   "execution_count": null,
   "metadata": {},
   "outputs": [],
   "source": [
    "ordered[ordered['State Code'] == 'NC'].to_csv(Path.cwd() / 'etc' / f'costreport_{year}.csv')"
   ]
  }
 ],
 "metadata": {
  "kernelspec": {
   "display_name": ".venv",
   "language": "python",
   "name": "python3"
  },
  "language_info": {
   "codemirror_mode": {
    "name": "ipython",
    "version": 3
   },
   "file_extension": ".py",
   "mimetype": "text/x-python",
   "name": "python",
   "nbconvert_exporter": "python",
   "pygments_lexer": "ipython3",
   "version": "3.9.5"
  },
  "orig_nbformat": 4
 },
 "nbformat": 4,
 "nbformat_minor": 2
}
